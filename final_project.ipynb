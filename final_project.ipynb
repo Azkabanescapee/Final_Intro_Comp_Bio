{
 "cells": [
  {
   "cell_type": "markdown",
   "metadata": {},
   "source": [
    "#Final Project\n",
    "\n",
    "Context\n",
    "You are a conservation biologist in charge of managing habitats for a protected\n",
    "reserve. Your reserve includes several distinct patches of intact forest that harbor\n",
    "populations of the endangered Warbling Babbler. You are worried about the longterm\n",
    "fate of these populations if the habitats remain disconnected with limited\n",
    "movement of individuals between them (i.e., limited migration between the\n",
    "populations), so youʼd like to use funds from your budget to establish habitat\n",
    "corridors that will allow individuals to move between the patches. However, you also\n",
    "know that the populations have some phenotypic differences (like color) and you are\n",
    "wondering how the frequencies of the phenotypes, and the overall population sizes,\n",
    "will change in the populations once they are connected.\n"
   ]
  },
  {
   "cell_type": "code",
   "execution_count": 16,
   "metadata": {},
   "outputs": [],
   "source": [
    "# Import necessary modules\n",
    "import matplotlib.pyplot as plt\n",
    "import random\n",
    "import numpy as np"
   ]
  },
  {
   "cell_type": "markdown",
   "metadata": {},
   "source": [
    "Your framework will include three types of classes: an Individual class, a Population class, and a Landscape class. Individuals exist in populations, and populations exist in a landscape. In each time step of your simulation, individuals can stay in the population where they started, or move to a\n",
    "new population. The probabilities that individuals stay or leave are stored in a table called a dispersal matrix (more detail below)."
   ]
  },
  {
   "cell_type": "code",
   "execution_count": 10,
   "metadata": {},
   "outputs": [],
   "source": [
    "class Individual:\n",
    "    \"\"\"Class to hold information on indiviuals.\"\"\"# Add a docstring\n",
    "        \n",
    "    def __init__(self, id, phenotype):\n",
    "        \"\"\"The constructor for the individual class, with id and phenotype as attributes.\"\"\"\n",
    "        self.id = id\n",
    "        self.phenotype = phenotype"
   ]
  },
  {
   "cell_type": "code",
   "execution_count": 8,
   "metadata": {},
   "outputs": [
    {
     "output_type": "stream",
     "name": "stdout",
     "text": "purple\nLSU1\nred\n"
    }
   ],
   "source": [
    "testIndividual = Individual(\"LSU1\", \"purple\")\n",
    "print(testIndividual.phenotype)\n",
    "print(testIndividual.id)\n"
   ]
  },
  {
   "cell_type": "markdown",
   "metadata": {},
   "source": [
    "Population constructors should create a new list for individuals in that population,\n",
    "and Populations should have methods to add and remove individuals, as well as to\n",
    "calculate and print the frequency of phenotypes among individuals."
   ]
  },
  {
   "cell_type": "code",
   "execution_count": 13,
   "metadata": {},
   "outputs": [],
   "source": [
    "class Population:\n",
    "    \"\"\"Class to hold information on populations that is composed of individuals.\"\"\"\n",
    "    \n",
    "    def __init__(self, id, popSize, phenotype): \n",
    "        \"\"\"\"The constructor for the population class.\"\"\"\n",
    "        self.id = id\n",
    "        self.individuals = [] #create a list of individuals\n",
    "        for i in range(popSize):\n",
    "            self.individuals.append(Individual(\"%s-%d\" % (id, i+1), phenotype)) #loop through the population (based on popSize) and add individuals to the individuals list, with       numbering for the id value starting at 1 (hence the i+1)\n",
    "\n",
    "    def addIndividual(self, individual): #create method to add individuals to a list\n",
    "        self.individuals.append(individual)\n",
    "    \n",
    "    def removeIndividual(self, individual): #create method to remove individuals from a list\n",
    "        try:\n",
    "            self.individuals.remove(individual) \n",
    "        except ValueError: #this fixes continuous errors that were occurring due to the remove function not working properly...it makes the function work despite errors\n",
    "            pass\n",
    "    \n",
    "    def calculateFreq(self, phenotype): #calculates the frequency of the phenotypes found in a population\n",
    "        freq = 0 #set the original frequency to zero to then calculate it later\n",
    "        for ind in self.individuals: #loop through the list of individuals\n",
    "             if ind.phenotype == phenotype: #if the phenotype in the list of individuals is equal to itself, then increase frequency by 1\n",
    "                 freq = freq + 1\n",
    "        return freq #save the value of the frequency for later use\n",
    "    \n",
    "    def printFreq(self, phenotype): #print out the phenotype and its frequency, also useful in testing of the code\n",
    "        print(\"The %s phenotype frequency is %d\" % (phenotype, self.calculateFreq(phenotype))) #this function calls the previous function of calculateFreq"
   ]
  },
  {
   "cell_type": "code",
   "execution_count": 5,
   "metadata": {},
   "outputs": [
    {
     "output_type": "stream",
     "name": "stdout",
     "text": "purple\npurple\npurple\npurple\npurple\npurple\npurple\npurple\npurple\npurple\npurple\npurple\nThe purple phenotype frequency is 12\n"
    }
   ],
   "source": [
    "testPopulation = Population(\"popA\", 12, \"purple\")\n",
    "for ind in testPopulation.individuals:\n",
    "    print(ind.phenotype) \n",
    "testPopulation.printFreq(\"purple\")"
   ]
  },
  {
   "cell_type": "markdown",
   "metadata": {},
   "source": [
    "The dispersal matrix consists of\n",
    "the probabilities that an individual disperses between populations, or stays in place,\n",
    "each time step. For Warbling Babblers, these probabilities correspond to their\n",
    "probability of moving in a week (Fig. 1). If an individual moves from one population\n",
    "to another, you should remove it from the list of individuals in the population where\n",
    "it started, and add it to the list of individuals in the population where it went. There\n",
    "are multiple ways to use the probabilities in the dispersal matrix to decide if an\n",
    "individual moves in each time step, but one function you may find helpful is\n",
    "random.choices(…) from the random module."
   ]
  },
  {
   "cell_type": "markdown",
   "metadata": {},
   "source": [
    "Landscape constructors should create a new list for the populations in that landscape, and Landscapes should have a method that uses the probabilities in the dispersal matrix to determine if an individual moves or stays each time step. Either the Population or Landscape constructors should set the starting population sizes. The total number of individuals across all populations should stay constant, but individual populations may change size."
   ]
  },
  {
   "cell_type": "code",
   "execution_count": 30,
   "metadata": {},
   "outputs": [],
   "source": [
    "class Landscape:\n",
    "    \"\"\"Class to hold information on landscapes, which are composed of different populations, which in turn have different individuals.\"\"\"\n",
    "    \n",
    "    def __init__(self, popSize=10, phenotypes=None, dispersalMatrix=None, simulationSteps=1): \n",
    "        \"\"\"\"The constructor for the Landscape class, taking population size, number of phenotypes, a dispersal matrix, and number of time steps as arguments.\"\"\"\n",
    "        self.dispersalMatrix = dispersalMatrix\n",
    "        self.simulationSteps = simulationSteps\n",
    "        self.popSizeRecords = [[]] #[[10,10,10],[11,9,10]...]\n",
    "        self.populations = [] #creates a list of populations\n",
    "        self.popAlias = []\n",
    "        for i in range(len(phenotypes)): #iterate through the populations (initially determined by the number of phenotypes since one phenotype per population)\n",
    "            self.populations.append(Population('pop%s' % chr(65 + i), popSize, phenotypes[i])) #append each population to the list of populations, numbering based on alphabet, A is chr 65\n",
    "            self.popAlias.append('pop%s' % chr(65 + i)) #create a new list with alias for each population, listing only the population id so that info about popluations can be added to it and used later to determine how to move b/n pops\n",
    "            self.popSizeRecords[0].append(popSize)\n",
    "    \n",
    "    def migratePop(self): #function to move from one population to another\n",
    "        migrationRecords = {} #create a dictionary to retain info about the migration\n",
    "\n",
    "        for i in range(len(self.populations)): #loop through the list of populations\n",
    "            popSize = len(self.populations[i].individuals)  #the population size is equal to the length of the list\n",
    "            probWeights = self.dispersalMatrix[i] #this sets the probability whether an individual moves and need to put a dispersal matrix as an input\n",
    "            migrationMap = random.choices(self.popAlias, weights=probWeights, k=popSize) #this randomly selects the destination population from the population Alias list, using the weights for the seleciton from the dispersal matrix, and does it for each individual, determined by popsize \n",
    "            #e.g. output for migrationMap => [popA,popB,popA,popA,popC,popA,popA,popC,popB,popA]\n",
    "            sourcePopId = self.populations[i].id #this makes a list for the source population\n",
    "            for indIndex, destPop in enumerate(migrationMap): #assigns a counter for the migrationMap list\n",
    "                if destPop != self.populations[i].id: #if the value of destpop does not equal the population id then...\n",
    "                    \n",
    "                    migrant = self.populations[i].individuals[indIndex] #identify the individual as a migrant\n",
    "                    destPopIndex = self.popAlias.index(destPop) #find the destination population's index using index function to use in the upcoming if, else statement\n",
    "\n",
    "                    if sourcePopId in migrationRecords:\n",
    "                        migrationRecords[sourcePopId].append({'migrant': migrant, 'destPopIndex': destPopIndex, 'sourcePopIndex': i}) #if the source population is in the migration Record dictionary, then append it to the dictionary, otherwise, create a new occurance in the dictionary\n",
    "                    else:\n",
    "                        migrationRecords[sourcePopId] = [{'migrant': migrant, 'destPopIndex': destPopIndex, 'sourcePopIndex': i}]\n",
    "                \n",
    "        for pop in migrationRecords: #loop through each of the populations in the dictionary\n",
    "            for record in migrationRecords[pop]: #for each of the populations, then loop through each of the records, i.e. sourcePopIndex, destPopIndex, migrant\n",
    "                sourcePopIndex = record['sourcePopIndex']\n",
    "                destPopIndex = record['destPopIndex']\n",
    "                migrant = record['migrant']\n",
    "                self.populations[destPopIndex].addIndividual(migrant) #use the add individual function to add the migrant to the destination population from the original self.populations\n",
    "                self.populations[sourcePopIndex].removeIndividual(migrant) #use the remove individual function to remove the migrant from the source population from the original self.populations\n",
    "        self.recordPopSize()\n",
    "           \n",
    "    def startSimulation(self): #a function to call how many time steps the simulation should be run for\n",
    "        for i in range(self.simulationSteps):\n",
    "            print('Simulating step %d...' % (i+1))\n",
    "            self.migratePop()\n",
    "        print('Simulation complete.')\n",
    "        self.plotPopSizes()\n",
    "    \n",
    "    def recordPopSize(self):\n",
    "        popSizeRecords = []\n",
    "        for pop in self.populations:\n",
    "            popSizeRecords.append(len(pop.individuals)) #temporarily store population sizes in a list  \n",
    "        self.popSizeRecords.append(popSizeRecords) #store population sizes in the landscape attribute for each migration stage       \n",
    "\n",
    "    def plotPhenoFreq(self):\n",
    "        pass\n",
    "\n",
    "    def plotPopSizes(self):\n",
    "        # Generating pop size data\n",
    "        xValues = list(range(0, self.simulationSteps + 1))\n",
    "        npArray = np.array(self.popSizeRecords)\n",
    "        transNpArray = npArray.T\n",
    "        transPopSizeRecords = transNpArray.tolist()\n",
    "\n",
    "        # Setting up the plot\n",
    "        plt.title(\"state\") #use the state of choice as the plot title\n",
    "        plt.ylabel(\"counts\") #use the count of choice (i.e. deaths or cases) to label the y axis\n",
    "        plt.xlabel(\"Si\")\n",
    "\n",
    "        for yValues in transPopSizeRecords:\n",
    "            plt.plot(xValues, yValues)  #line plot using the xaxis and yaxis from above\n",
    "\n",
    "        plt.show()\n",
    "        # xaxis, yaxis = grabStateData(state, counts) #create an xaxis list and yaxis list by grabbing values returned from the first function\n",
    "        # plt.title(state) #use the state of choice as the plot title\n",
    "        # plt.ylabel(counts) #use the count of choice (i.e. deaths or cases) to label the y axis\n",
    "        # plt.xlabel(\"Day\")\n",
    "        # plt.grid(True) #create grid\n",
    "        # plt.plot(xaxis, yaxis)  #line plot using the xaxis and yaxis from above\n",
    "        # plt.show()\n",
    "        # plotStateGraph(\"Louisiana\",\"cases\") #test function with Louisiana and number of cases\n",
    "        # plotStateGraph (\"Michigan\",\"deaths\") #test function with Michigan and number of deaths\n",
    "        \n",
    "\n",
    "\n",
    "\n"
   ]
  },
  {
   "cell_type": "code",
   "execution_count": 32,
   "metadata": {
    "tags": [
     "outputPrepend",
     "outputPrepend"
    ]
   },
   "outputs": [
    {
     "output_type": "stream",
     "name": "stdout",
     "text": "Simulating step 1...\n"
    },
    {
     "output_type": "error",
     "ename": "ValueError",
     "evalue": "The number of weights does not match the population",
     "traceback": [
      "\u001b[1;31m---------------------------------------------------------------------------\u001b[0m",
      "\u001b[1;31mValueError\u001b[0m                                Traceback (most recent call last)",
      "\u001b[1;32m<ipython-input-32-8c9c8d7a13ec>\u001b[0m in \u001b[0;36m<module>\u001b[1;34m\u001b[0m\n\u001b[0;32m      8\u001b[0m \u001b[0mpopSize\u001b[0m \u001b[1;33m=\u001b[0m \u001b[1;36m10\u001b[0m\u001b[1;33m\u001b[0m\u001b[1;33m\u001b[0m\u001b[0m\n\u001b[0;32m      9\u001b[0m \u001b[0mtestLandscape\u001b[0m \u001b[1;33m=\u001b[0m \u001b[0mLandscape\u001b[0m\u001b[1;33m(\u001b[0m\u001b[0mpopSize\u001b[0m\u001b[1;33m,\u001b[0m \u001b[0mphenotypes\u001b[0m\u001b[1;33m,\u001b[0m \u001b[0mdispersalMatrix\u001b[0m\u001b[1;33m,\u001b[0m \u001b[0msteps\u001b[0m\u001b[1;33m)\u001b[0m\u001b[1;33m\u001b[0m\u001b[1;33m\u001b[0m\u001b[0m\n\u001b[1;32m---> 10\u001b[1;33m \u001b[0mtestLandscape\u001b[0m\u001b[1;33m.\u001b[0m\u001b[0mstartSimulation\u001b[0m\u001b[1;33m(\u001b[0m\u001b[1;33m)\u001b[0m\u001b[1;33m\u001b[0m\u001b[1;33m\u001b[0m\u001b[0m\n\u001b[0m\u001b[0;32m     11\u001b[0m \u001b[0mprint\u001b[0m\u001b[1;33m(\u001b[0m\u001b[1;34m'\\nFinal landscape status:'\u001b[0m\u001b[1;33m)\u001b[0m\u001b[1;33m\u001b[0m\u001b[1;33m\u001b[0m\u001b[0m\n\u001b[0;32m     12\u001b[0m \u001b[1;32mfor\u001b[0m \u001b[0mpop\u001b[0m \u001b[1;32min\u001b[0m \u001b[0mtestLandscape\u001b[0m\u001b[1;33m.\u001b[0m\u001b[0mpopulations\u001b[0m\u001b[1;33m:\u001b[0m\u001b[1;33m\u001b[0m\u001b[1;33m\u001b[0m\u001b[0m\n",
      "\u001b[1;32m<ipython-input-30-90161002cc5e>\u001b[0m in \u001b[0;36mstartSimulation\u001b[1;34m(self)\u001b[0m\n\u001b[0;32m     46\u001b[0m         \u001b[1;32mfor\u001b[0m \u001b[0mi\u001b[0m \u001b[1;32min\u001b[0m \u001b[0mrange\u001b[0m\u001b[1;33m(\u001b[0m\u001b[0mself\u001b[0m\u001b[1;33m.\u001b[0m\u001b[0msimulationSteps\u001b[0m\u001b[1;33m)\u001b[0m\u001b[1;33m:\u001b[0m\u001b[1;33m\u001b[0m\u001b[1;33m\u001b[0m\u001b[0m\n\u001b[0;32m     47\u001b[0m             \u001b[0mprint\u001b[0m\u001b[1;33m(\u001b[0m\u001b[1;34m'Simulating step %d...'\u001b[0m \u001b[1;33m%\u001b[0m \u001b[1;33m(\u001b[0m\u001b[0mi\u001b[0m\u001b[1;33m+\u001b[0m\u001b[1;36m1\u001b[0m\u001b[1;33m)\u001b[0m\u001b[1;33m)\u001b[0m\u001b[1;33m\u001b[0m\u001b[1;33m\u001b[0m\u001b[0m\n\u001b[1;32m---> 48\u001b[1;33m             \u001b[0mself\u001b[0m\u001b[1;33m.\u001b[0m\u001b[0mmigratePop\u001b[0m\u001b[1;33m(\u001b[0m\u001b[1;33m)\u001b[0m\u001b[1;33m\u001b[0m\u001b[1;33m\u001b[0m\u001b[0m\n\u001b[0m\u001b[0;32m     49\u001b[0m         \u001b[0mprint\u001b[0m\u001b[1;33m(\u001b[0m\u001b[1;34m'Simulation complete.'\u001b[0m\u001b[1;33m)\u001b[0m\u001b[1;33m\u001b[0m\u001b[1;33m\u001b[0m\u001b[0m\n\u001b[0;32m     50\u001b[0m         \u001b[0mself\u001b[0m\u001b[1;33m.\u001b[0m\u001b[0mplotPopSizes\u001b[0m\u001b[1;33m(\u001b[0m\u001b[1;33m)\u001b[0m\u001b[1;33m\u001b[0m\u001b[1;33m\u001b[0m\u001b[0m\n",
      "\u001b[1;32m<ipython-input-30-90161002cc5e>\u001b[0m in \u001b[0;36mmigratePop\u001b[1;34m(self)\u001b[0m\n\u001b[0;32m     20\u001b[0m             \u001b[0mpopSize\u001b[0m \u001b[1;33m=\u001b[0m \u001b[0mlen\u001b[0m\u001b[1;33m(\u001b[0m\u001b[0mself\u001b[0m\u001b[1;33m.\u001b[0m\u001b[0mpopulations\u001b[0m\u001b[1;33m[\u001b[0m\u001b[0mi\u001b[0m\u001b[1;33m]\u001b[0m\u001b[1;33m.\u001b[0m\u001b[0mindividuals\u001b[0m\u001b[1;33m)\u001b[0m  \u001b[1;31m#the population size is equal to the length of the list\u001b[0m\u001b[1;33m\u001b[0m\u001b[1;33m\u001b[0m\u001b[0m\n\u001b[0;32m     21\u001b[0m             \u001b[0mprobWeights\u001b[0m \u001b[1;33m=\u001b[0m \u001b[0mself\u001b[0m\u001b[1;33m.\u001b[0m\u001b[0mdispersalMatrix\u001b[0m\u001b[1;33m[\u001b[0m\u001b[0mi\u001b[0m\u001b[1;33m]\u001b[0m \u001b[1;31m#this sets the probability whether an individual moves and need to put a dispersal matrix as an input\u001b[0m\u001b[1;33m\u001b[0m\u001b[1;33m\u001b[0m\u001b[0m\n\u001b[1;32m---> 22\u001b[1;33m             \u001b[0mmigrationMap\u001b[0m \u001b[1;33m=\u001b[0m \u001b[0mrandom\u001b[0m\u001b[1;33m.\u001b[0m\u001b[0mchoices\u001b[0m\u001b[1;33m(\u001b[0m\u001b[0mself\u001b[0m\u001b[1;33m.\u001b[0m\u001b[0mpopAlias\u001b[0m\u001b[1;33m,\u001b[0m \u001b[0mweights\u001b[0m\u001b[1;33m=\u001b[0m\u001b[0mprobWeights\u001b[0m\u001b[1;33m,\u001b[0m \u001b[0mk\u001b[0m\u001b[1;33m=\u001b[0m\u001b[0mpopSize\u001b[0m\u001b[1;33m)\u001b[0m \u001b[1;31m#this randomly selects the destination population from the population Alias list, using the weights for the seleciton from the dispersal matrix, and does it for each individual, determined by popsize\u001b[0m\u001b[1;33m\u001b[0m\u001b[1;33m\u001b[0m\u001b[0m\n\u001b[0m\u001b[0;32m     23\u001b[0m             \u001b[1;31m#e.g. output for migrationMap => [popA,popB,popA,popA,popC,popA,popA,popC,popB,popA]\u001b[0m\u001b[1;33m\u001b[0m\u001b[1;33m\u001b[0m\u001b[1;33m\u001b[0m\u001b[0m\n\u001b[0;32m     24\u001b[0m             \u001b[0msourcePopId\u001b[0m \u001b[1;33m=\u001b[0m \u001b[0mself\u001b[0m\u001b[1;33m.\u001b[0m\u001b[0mpopulations\u001b[0m\u001b[1;33m[\u001b[0m\u001b[0mi\u001b[0m\u001b[1;33m]\u001b[0m\u001b[1;33m.\u001b[0m\u001b[0mid\u001b[0m \u001b[1;31m#this makes a list for the source population\u001b[0m\u001b[1;33m\u001b[0m\u001b[1;33m\u001b[0m\u001b[0m\n",
      "\u001b[1;32m~\\AppData\\Local\\Programs\\Python\\Python38-32\\lib\\random.py\u001b[0m in \u001b[0;36mchoices\u001b[1;34m(self, population, weights, cum_weights, k)\u001b[0m\n\u001b[0;32m    402\u001b[0m             \u001b[1;32mraise\u001b[0m \u001b[0mTypeError\u001b[0m\u001b[1;33m(\u001b[0m\u001b[1;34m'Cannot specify both weights and cumulative weights'\u001b[0m\u001b[1;33m)\u001b[0m\u001b[1;33m\u001b[0m\u001b[1;33m\u001b[0m\u001b[0m\n\u001b[0;32m    403\u001b[0m         \u001b[1;32mif\u001b[0m \u001b[0mlen\u001b[0m\u001b[1;33m(\u001b[0m\u001b[0mcum_weights\u001b[0m\u001b[1;33m)\u001b[0m \u001b[1;33m!=\u001b[0m \u001b[0mn\u001b[0m\u001b[1;33m:\u001b[0m\u001b[1;33m\u001b[0m\u001b[1;33m\u001b[0m\u001b[0m\n\u001b[1;32m--> 404\u001b[1;33m             \u001b[1;32mraise\u001b[0m \u001b[0mValueError\u001b[0m\u001b[1;33m(\u001b[0m\u001b[1;34m'The number of weights does not match the population'\u001b[0m\u001b[1;33m)\u001b[0m\u001b[1;33m\u001b[0m\u001b[1;33m\u001b[0m\u001b[0m\n\u001b[0m\u001b[0;32m    405\u001b[0m         \u001b[0mbisect\u001b[0m \u001b[1;33m=\u001b[0m \u001b[0m_bisect\u001b[0m\u001b[1;33m\u001b[0m\u001b[1;33m\u001b[0m\u001b[0m\n\u001b[0;32m    406\u001b[0m         \u001b[0mtotal\u001b[0m \u001b[1;33m=\u001b[0m \u001b[0mcum_weights\u001b[0m\u001b[1;33m[\u001b[0m\u001b[1;33m-\u001b[0m\u001b[1;36m1\u001b[0m\u001b[1;33m]\u001b[0m \u001b[1;33m+\u001b[0m \u001b[1;36m0.0\u001b[0m   \u001b[1;31m# convert to float\u001b[0m\u001b[1;33m\u001b[0m\u001b[1;33m\u001b[0m\u001b[0m\n",
      "\u001b[1;31mValueError\u001b[0m: The number of weights does not match the population"
     ]
    }
   ],
   "source": [
    "phenotypes = ['green', 'blue', 'purple', 'red']\n",
    "dispersalMatrix = [\n",
    "    [0.6, 0.1, 0.2, 0.1],\n",
    "    [0.2, 0.6, 0.1, 0.1],\n",
    "    [0.1, 0.2, 0.6, 0.1],\n",
    "    [0.1, 0.1, 0.3, 0.5]]\n",
    "steps = 15\n",
    "popSize = 10\n",
    "testLandscape = Landscape(popSize, phenotypes, dispersalMatrix, steps)\n",
    "testLandscape.startSimulation()\n",
    "print('\\nFinal landscape status:')\n",
    "for pop in testLandscape.populations:\n",
    "    print('Population: %s' % pop.id)\n",
    "    for ind in pop.individuals:\n",
    "        print('%s => %s' % (ind.id, ind.phenotype))"
   ]
  },
  {
   "cell_type": "code",
   "execution_count": null,
   "metadata": {},
   "outputs": [],
   "source": []
  }
 ],
 "metadata": {
  "language_info": {
   "name": "python",
   "codemirror_mode": {
    "name": "ipython",
    "version": 3
   },
   "version": "3.8.2-final"
  },
  "orig_nbformat": 2,
  "file_extension": ".py",
  "mimetype": "text/x-python",
  "name": "python",
  "npconvert_exporter": "python",
  "pygments_lexer": "ipython3",
  "version": 3,
  "kernelspec": {
   "name": "python3",
   "display_name": "Python 3"
  }
 },
 "nbformat": 4,
 "nbformat_minor": 2
}