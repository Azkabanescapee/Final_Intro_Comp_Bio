{
 "cells": [
  {
   "cell_type": "markdown",
   "metadata": {},
   "source": [
    "#Final Project\n",
    "\n",
    "Context\n",
    "You are a conservation biologist in charge of managing habitats for a protected\n",
    "reserve. Your reserve includes several distinct patches of intact forest that harbor\n",
    "populations of the endangered Warbling Babbler. You are worried about the longterm\n",
    "fate of these populations if the habitats remain disconnected with limited\n",
    "movement of individuals between them (i.e., limited migration between the\n",
    "populations), so youʼd like to use funds from your budget to establish habitat\n",
    "corridors that will allow individuals to move between the patches. However, you also\n",
    "know that the populations have some phenotypic differences (like color) and you are\n",
    "wondering how the frequencies of the phenotypes, and the overall population sizes,\n",
    "will change in the populations once they are connected.\n"
   ]
  },
  {
   "cell_type": "code",
   "execution_count": null,
   "metadata": {},
   "outputs": [],
   "source": [
    "# Import necessary modules\n",
    "import matplotlib.pyplot as plt\n",
    "import random"
   ]
  },
  {
   "cell_type": "markdown",
   "metadata": {},
   "source": [
    "Your framework will include three types of classes: an Individual class, a Population class, and a Landscape class. Individuals exist in populations, and populations exist in a landscape. In each time step of your simulation, individuals can stay in the population where they started, or move to a\n",
    "new population. The probabilities that individuals stay or leave are stored in a table called a dispersal matrix (more detail below)."
   ]
  },
  {
   "cell_type": "code",
   "execution_count": 1,
   "metadata": {},
   "outputs": [],
   "source": [
    "class Individual:\n",
    "    \"\"\"Class to hold information on indiviuals.\"\"\"# Add a docstring\n",
    "        \n",
    "    def __init__(self, id, phenotype):\n",
    "        \"\"\"The constructor for the individual class.\"\"\"\n",
    "        self.id = id\n",
    "        self.phenotype = phenotype\n",
    "\n",
    "    def setPhenotype(self, newPhenotype):\n",
    "        self.phenotype = newPhenotype"
   ]
  },
  {
   "cell_type": "code",
   "execution_count": 6,
   "metadata": {},
   "outputs": [
    {
     "output_type": "stream",
     "name": "stdout",
     "text": "purple\nred\n"
    }
   ],
   "source": [
    "testIndividual = Individual(\"LSU1\", \"purple\")\n",
    "print(testIndividual.phenotype)\n",
    "testIndividual.setPhenotype(\"red\")\n",
    "print(testIndividual.phenotype)\n"
   ]
  },
  {
   "cell_type": "markdown",
   "metadata": {},
   "source": [
    "Population constructors should create a new list for individuals in that population,\n",
    "and Populations should have methods to add and remove individuals, as well as to\n",
    "calculate and print the frequency of phenotypes among individuals."
   ]
  },
  {
   "cell_type": "code",
   "execution_count": 8,
   "metadata": {},
   "outputs": [],
   "source": [
    "class Population:\n",
    "    \"\"\"Class to hold information on populations that is composed of individuals.\"\"\"\n",
    "    \n",
    "    def __init__(self, id, popSize, phenotype): \n",
    "        \"\"\"\"The constructor for the population class.\"\"\"\n",
    "        self.id = id\n",
    "        self.individuals = []\n",
    "        for i in range(popSize):\n",
    "            self.individuals.append(Individual(\"%s-%d\" % (id, i+1), phenotype))\n",
    "\n",
    "    def addIndividual(self, individual):\n",
    "        self.individuals.append(individual)\n",
    "    \n",
    "    def removeIndividual(self, individual):\n",
    "        self.individuals.remove(individual)\n",
    "    \n",
    "    def calculateFreq(self, phenotype):\n",
    "        freq = 0\n",
    "        for ind in self.individuals:\n",
    "             if ind.phenotype == phenotype:\n",
    "                 freq = freq + 1\n",
    "        return freq\n",
    "    \n",
    "    def printFreq(self, phenotype):\n",
    "        print(\"The %s phenotype frequency is %d\" % (phenotype, self.calculateFreq(phenotype)))"
   ]
  },
  {
   "cell_type": "code",
   "execution_count": 12,
   "metadata": {},
   "outputs": [
    {
     "output_type": "stream",
     "name": "stdout",
     "text": "purple\npurple\npurple\npurple\npurple\npurple\npurple\npurple\npurple\npurple\npurple\npurple\nThe purple phenotype frequency is 12\n"
    }
   ],
   "source": [
    "testPopulation = Population(\"popA\", 12, \"purple\")\n",
    "for ind in testPopulation.individuals:\n",
    "    print(ind.phenotype) \n",
    "testPopulation.printFreq(\"purple\")"
   ]
  },
  {
   "cell_type": "markdown",
   "metadata": {},
   "source": [
    "The dispersal matrix consists of\n",
    "the probabilities that an individual disperses between populations, or stays in place,\n",
    "each time step. For Warbling Babblers, these probabilities correspond to their\n",
    "probability of moving in a week (Fig. 1). If an individual moves from one population\n",
    "to another, you should remove it from the list of individuals in the population where\n",
    "it started, and add it to the list of individuals in the population where it went. There\n",
    "are multiple ways to use the probabilities in the dispersal matrix to decide if an\n",
    "individual moves in each time step, but one function you may find helpful is\n",
    "random.choices(…) from the random module."
   ]
  },
  {
   "cell_type": "markdown",
   "metadata": {},
   "source": [
    "Landscape constructors should create a new list for the populations in that landscape, and Landscapes should have a method that uses the probabilities in the dispersal matrix to determine if an individual moves or stays each time step. Either the Population or Landscape constructors should set the starting population sizes. The total number of individuals across all populations should stay constant, but individual populations may change size."
   ]
  },
  {
   "cell_type": "code",
   "execution_count": 29,
   "metadata": {},
   "outputs": [],
   "source": [
    "class Landscape:\n",
    "    \"\"\"Class to hold information on landscapes, which are composed of different populations.\"\"\"\n",
    "    \n",
    "    def __init__(self, popSize=10, phenotypes=None, dispersalMatrix=None): \n",
    "        \"\"\"\"The constructor for the Landscape class, taking a whole lot of arguments.\"\"\"\n",
    "        self.dispersalMatrix = dispersalMatrix\n",
    "        self.populations = []\n",
    "        for i in range(len(phenotypes)):\n",
    "            self.populations.append(Population('pop%s' % chr(65 + i), popSize, phenotypes[i]))\n",
    "    \n",
    "    def probabilityMigration(self):\n",
    "        pass\n",
    "    \n",
    "    def plotPhenoFreq(self):\n",
    "        pass\n",
    "\n",
    "    def plotPopSizes(self):\n",
    "        pass\n",
    "        "
   ]
  },
  {
   "cell_type": "code",
   "execution_count": 34,
   "metadata": {},
   "outputs": [
    {
     "output_type": "stream",
     "name": "stdout",
     "text": "<__main__.Landscape object at 0x04933640>\npopA-1 => green\npopA-2 => green\npopA-3 => green\npopA-4 => green\npopB-1 => blue\npopB-2 => blue\npopB-3 => blue\npopB-4 => blue\npopC-1 => purple\npopC-2 => purple\npopC-3 => purple\npopC-4 => purple\npopD-1 => red\npopD-2 => red\npopD-3 => red\npopD-4 => red\npopE-1 => black\npopE-2 => black\npopE-3 => black\npopE-4 => black\n"
    }
   ],
   "source": [
    "phenotypes = ['green', 'blue', 'purple', 'red', 'black']\n",
    "testLandscape = Landscape(4, phenotypes)\n",
    "print(testLandscape)\n",
    "for pop in testLandscape.populations:\n",
    "    for ind in pop.individuals:\n",
    "        print('%s => %s' % (ind.id, ind.phenotype))"
   ]
  },
  {
   "cell_type": "code",
   "execution_count": null,
   "metadata": {},
   "outputs": [],
   "source": []
  }
 ],
 "metadata": {
  "language_info": {
   "name": "python",
   "codemirror_mode": {
    "name": "ipython",
    "version": 3
   },
   "version": "3.8.2-final"
  },
  "orig_nbformat": 2,
  "file_extension": ".py",
  "mimetype": "text/x-python",
  "name": "python",
  "npconvert_exporter": "python",
  "pygments_lexer": "ipython3",
  "version": 3,
  "kernelspec": {
   "name": "python38232bitb7c4e5f263d4410e85abb77999076597",
   "display_name": "Python 3.8.2 32-bit"
  }
 },
 "nbformat": 4,
 "nbformat_minor": 2
}