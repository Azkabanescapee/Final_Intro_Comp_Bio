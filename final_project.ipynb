{
 "cells": [
  {
   "cell_type": "markdown",
   "metadata": {},
   "source": [
    "#Final Project\n",
    "\n",
    "Context\n",
    "You are a conservation biologist in charge of managing habitats for a protected\n",
    "reserve. Your reserve includes several distinct patches of intact forest that harbor\n",
    "populations of the endangered Warbling Babbler. You are worried about the longterm\n",
    "fate of these populations if the habitats remain disconnected with limited\n",
    "movement of individuals between them (i.e., limited migration between the\n",
    "populations), so youʼd like to use funds from your budget to establish habitat\n",
    "corridors that will allow individuals to move between the patches. However, you also\n",
    "know that the populations have some phenotypic differences (like color) and you are\n",
    "wondering how the frequencies of the phenotypes, and the overall population sizes,\n",
    "will change in the populations once they are connected.\n"
   ]
  },
  {
   "cell_type": "code",
   "execution_count": 78,
   "metadata": {},
   "outputs": [],
   "source": [
    "# Import necessary modules\n",
    "import matplotlib.pyplot as plt\n",
    "import random\n",
    "import copy"
   ]
  },
  {
   "cell_type": "markdown",
   "metadata": {},
   "source": [
    "Your framework will include three types of classes: an Individual class, a Population class, and a Landscape class. Individuals exist in populations, and populations exist in a landscape. In each time step of your simulation, individuals can stay in the population where they started, or move to a\n",
    "new population. The probabilities that individuals stay or leave are stored in a table called a dispersal matrix (more detail below)."
   ]
  },
  {
   "cell_type": "code",
   "execution_count": 1,
   "metadata": {},
   "outputs": [],
   "source": [
    "class Individual:\n",
    "    \"\"\"Class to hold information on indiviuals.\"\"\"# Add a docstring\n",
    "        \n",
    "    def __init__(self, id, phenotype):\n",
    "        \"\"\"The constructor for the individual class.\"\"\"\n",
    "        self.id = id\n",
    "        self.phenotype = phenotype\n",
    "\n",
    "    def setPhenotype(self, newPhenotype):\n",
    "        self.phenotype = newPhenotype"
   ]
  },
  {
   "cell_type": "code",
   "execution_count": 6,
   "metadata": {},
   "outputs": [
    {
     "output_type": "stream",
     "name": "stdout",
     "text": "purple\nred\n"
    }
   ],
   "source": [
    "testIndividual = Individual(\"LSU1\", \"purple\")\n",
    "print(testIndividual.phenotype)\n",
    "testIndividual.setPhenotype(\"red\")\n",
    "print(testIndividual.phenotype)\n"
   ]
  },
  {
   "cell_type": "markdown",
   "metadata": {},
   "source": [
    "Population constructors should create a new list for individuals in that population,\n",
    "and Populations should have methods to add and remove individuals, as well as to\n",
    "calculate and print the frequency of phenotypes among individuals."
   ]
  },
  {
   "cell_type": "code",
   "execution_count": 8,
   "metadata": {},
   "outputs": [],
   "source": [
    "class Population:\n",
    "    \"\"\"Class to hold information on populations that is composed of individuals.\"\"\"\n",
    "    \n",
    "    def __init__(self, id, popSize, phenotype): \n",
    "        \"\"\"\"The constructor for the population class.\"\"\"\n",
    "        self.id = id\n",
    "        self.individuals = []\n",
    "        for i in range(popSize):\n",
    "            self.individuals.append(Individual(\"%s-%d\" % (id, i+1), phenotype))\n",
    "\n",
    "    def addIndividual(self, individual):\n",
    "        self.individuals.append(individual)\n",
    "    \n",
    "    def removeIndividual(self, individual):\n",
    "        self.individuals.remove(individual)\n",
    "    \n",
    "    def calculateFreq(self, phenotype):\n",
    "        freq = 0\n",
    "        for ind in self.individuals:\n",
    "             if ind.phenotype == phenotype:\n",
    "                 freq = freq + 1\n",
    "        return freq\n",
    "    \n",
    "    def printFreq(self, phenotype):\n",
    "        print(\"The %s phenotype frequency is %d\" % (phenotype, self.calculateFreq(phenotype)))"
   ]
  },
  {
   "cell_type": "code",
   "execution_count": 12,
   "metadata": {},
   "outputs": [
    {
     "output_type": "stream",
     "name": "stdout",
     "text": "purple\npurple\npurple\npurple\npurple\npurple\npurple\npurple\npurple\npurple\npurple\npurple\nThe purple phenotype frequency is 12\n"
    }
   ],
   "source": [
    "testPopulation = Population(\"popA\", 12, \"purple\")\n",
    "for ind in testPopulation.individuals:\n",
    "    print(ind.phenotype) \n",
    "testPopulation.printFreq(\"purple\")"
   ]
  },
  {
   "cell_type": "markdown",
   "metadata": {},
   "source": [
    "The dispersal matrix consists of\n",
    "the probabilities that an individual disperses between populations, or stays in place,\n",
    "each time step. For Warbling Babblers, these probabilities correspond to their\n",
    "probability of moving in a week (Fig. 1). If an individual moves from one population\n",
    "to another, you should remove it from the list of individuals in the population where\n",
    "it started, and add it to the list of individuals in the population where it went. There\n",
    "are multiple ways to use the probabilities in the dispersal matrix to decide if an\n",
    "individual moves in each time step, but one function you may find helpful is\n",
    "random.choices(…) from the random module."
   ]
  },
  {
   "cell_type": "markdown",
   "metadata": {},
   "source": [
    "Landscape constructors should create a new list for the populations in that landscape, and Landscapes should have a method that uses the probabilities in the dispersal matrix to determine if an individual moves or stays each time step. Either the Population or Landscape constructors should set the starting population sizes. The total number of individuals across all populations should stay constant, but individual populations may change size."
   ]
  },
  {
   "cell_type": "code",
   "execution_count": 94,
   "metadata": {},
   "outputs": [],
   "source": [
    "class Landscape:\n",
    "    \"\"\"Class to hold information on landscapes, which are composed of different populations.\"\"\"\n",
    "    \n",
    "    def __init__(self, popSize=10, phenotypes=None, dispersalMatrix=None, simulationSteps=1): \n",
    "        \"\"\"\"The constructor for the Landscape class, taking a whole lot of arguments.\"\"\"\n",
    "        self.dispersalMatrix = dispersalMatrix\n",
    "        self.simulationSteps = simulationSteps\n",
    "        self.populations = []\n",
    "        self.popAlias = []\n",
    "        for i in range(len(phenotypes)):\n",
    "            self.populations.append(Population('pop%s' % chr(65 + i), popSize, phenotypes[i]))\n",
    "            self.popAlias.append('pop%s' % chr(65 + i))\n",
    "    \n",
    "    def migratePop(self):\n",
    "        newPopulations = copy.deepcopy(self.populations)\n",
    "        for i in range(len(self.populations)): #loop through the populations\n",
    "            popSize = len(self.populations[i].individuals)\n",
    "            probWeights = self.dispersalMatrix[i]\n",
    "            migrationMap = random.choices(self.popAlias, weights=probWeights, k=popSize)\n",
    "            #i.e. migrationMap => [popA,popB,popA,popA,popC,popA,popA,popC,popB,popA]\n",
    "            migrants = []\n",
    "            for indIndex, destPop in enumerate(migrationMap):\n",
    "                if destPop != self.populations[i].id:\n",
    "                    \n",
    "                    migrant = self.populations[i].individuals[indIndex]\n",
    "                    migrants.append(migrant)\n",
    "\n",
    "                    destPopIndex = self.popAlias.index(destPop)\n",
    "                    newPopulations[destPopIndex].addIndividual(migrant)\n",
    "\n",
    "                    newPopulations[i].removeIndividual(migrant)\n",
    "                    \n",
    "            \n",
    "            # for migrant in migrants:\n",
    "            #     newPopulations[i].removeIndividual(migrant)\n",
    "        \n",
    "        # for pop in newPopulations:\n",
    "        #     print('Population: %s' % pop.id)\n",
    "        #     for ind in pop.individuals:\n",
    "        #         print('%s => %s' % (ind.id, ind.phenotype))\n",
    "        # print('-------')\n",
    "        # for pop in self.populations:\n",
    "        #     print('Population: %s' % pop.id)\n",
    "        #     for ind in pop.individuals:\n",
    "        #         print('%s => %s' % (ind.id, ind.phenotype))\n",
    "        self.populations = newPopulations\n",
    "                    \n",
    "    def startSimulation(self):\n",
    "        for i in range(self.simulationSteps):\n",
    "            print('Simulating step %d' % (i+1))\n",
    "            self.migratePop()\n",
    "    \n",
    "    def plotPhenoFreq(self):\n",
    "        pass\n",
    "\n",
    "    def plotPopSizes(self):\n",
    "        pass\n",
    "        "
   ]
  },
  {
   "cell_type": "code",
   "execution_count": 96,
   "metadata": {},
   "outputs": [
    {
     "output_type": "stream",
     "name": "stdout",
     "text": "Simulating step 1\npopA-2\n"
    },
    {
     "output_type": "error",
     "ename": "ValueError",
     "evalue": "list.remove(x): x not in list",
     "traceback": [
      "\u001b[1;31m---------------------------------------------------------------------------\u001b[0m",
      "\u001b[1;31mValueError\u001b[0m                                Traceback (most recent call last)",
      "\u001b[1;32m<ipython-input-96-803d74ba9b6f>\u001b[0m in \u001b[0;36m<module>\u001b[1;34m\u001b[0m\n\u001b[0;32m      6\u001b[0m \u001b[0msteps\u001b[0m \u001b[1;33m=\u001b[0m \u001b[1;36m4\u001b[0m\u001b[1;33m\u001b[0m\u001b[1;33m\u001b[0m\u001b[0m\n\u001b[0;32m      7\u001b[0m \u001b[0mtestLandscape\u001b[0m \u001b[1;33m=\u001b[0m \u001b[0mLandscape\u001b[0m\u001b[1;33m(\u001b[0m\u001b[1;36m4\u001b[0m\u001b[1;33m,\u001b[0m \u001b[0mphenotypes\u001b[0m\u001b[1;33m,\u001b[0m \u001b[0mdispersalMatrix\u001b[0m\u001b[1;33m,\u001b[0m \u001b[0msteps\u001b[0m\u001b[1;33m)\u001b[0m\u001b[1;33m\u001b[0m\u001b[1;33m\u001b[0m\u001b[0m\n\u001b[1;32m----> 8\u001b[1;33m \u001b[0mtestLandscape\u001b[0m\u001b[1;33m.\u001b[0m\u001b[0mstartSimulation\u001b[0m\u001b[1;33m(\u001b[0m\u001b[1;33m)\u001b[0m\u001b[1;33m\u001b[0m\u001b[1;33m\u001b[0m\u001b[0m\n\u001b[0m\u001b[0;32m      9\u001b[0m \u001b[0mprint\u001b[0m\u001b[1;33m(\u001b[0m\u001b[1;34m'\\nFinal landscape status:'\u001b[0m\u001b[1;33m)\u001b[0m\u001b[1;33m\u001b[0m\u001b[1;33m\u001b[0m\u001b[0m\n\u001b[0;32m     10\u001b[0m \u001b[1;31m# for pop in testLandscape.populations:\u001b[0m\u001b[1;33m\u001b[0m\u001b[1;33m\u001b[0m\u001b[1;33m\u001b[0m\u001b[0m\n",
      "\u001b[1;32m<ipython-input-94-25a3d6bbb5cf>\u001b[0m in \u001b[0;36mstartSimulation\u001b[1;34m(self)\u001b[0m\n\u001b[0;32m     51\u001b[0m         \u001b[1;32mfor\u001b[0m \u001b[0mi\u001b[0m \u001b[1;32min\u001b[0m \u001b[0mrange\u001b[0m\u001b[1;33m(\u001b[0m\u001b[0mself\u001b[0m\u001b[1;33m.\u001b[0m\u001b[0msimulationSteps\u001b[0m\u001b[1;33m)\u001b[0m\u001b[1;33m:\u001b[0m\u001b[1;33m\u001b[0m\u001b[1;33m\u001b[0m\u001b[0m\n\u001b[0;32m     52\u001b[0m             \u001b[0mprint\u001b[0m\u001b[1;33m(\u001b[0m\u001b[1;34m'Simulating step %d'\u001b[0m \u001b[1;33m%\u001b[0m \u001b[1;33m(\u001b[0m\u001b[0mi\u001b[0m\u001b[1;33m+\u001b[0m\u001b[1;36m1\u001b[0m\u001b[1;33m)\u001b[0m\u001b[1;33m)\u001b[0m\u001b[1;33m\u001b[0m\u001b[1;33m\u001b[0m\u001b[0m\n\u001b[1;32m---> 53\u001b[1;33m             \u001b[0mself\u001b[0m\u001b[1;33m.\u001b[0m\u001b[0mmigratePop\u001b[0m\u001b[1;33m(\u001b[0m\u001b[1;33m)\u001b[0m\u001b[1;33m\u001b[0m\u001b[1;33m\u001b[0m\u001b[0m\n\u001b[0m\u001b[0;32m     54\u001b[0m \u001b[1;33m\u001b[0m\u001b[0m\n\u001b[0;32m     55\u001b[0m     \u001b[1;32mdef\u001b[0m \u001b[0mplotPhenoFreq\u001b[0m\u001b[1;33m(\u001b[0m\u001b[0mself\u001b[0m\u001b[1;33m)\u001b[0m\u001b[1;33m:\u001b[0m\u001b[1;33m\u001b[0m\u001b[1;33m\u001b[0m\u001b[0m\n",
      "\u001b[1;32m<ipython-input-94-25a3d6bbb5cf>\u001b[0m in \u001b[0;36mmigratePop\u001b[1;34m(self)\u001b[0m\n\u001b[0;32m     31\u001b[0m                     \u001b[0mprint\u001b[0m\u001b[1;33m(\u001b[0m\u001b[0mnewPopulations\u001b[0m\u001b[1;33m[\u001b[0m\u001b[0mi\u001b[0m\u001b[1;33m]\u001b[0m\u001b[1;33m.\u001b[0m\u001b[0mindividuals\u001b[0m\u001b[1;33m[\u001b[0m\u001b[0mindIndex\u001b[0m\u001b[1;33m]\u001b[0m\u001b[1;33m.\u001b[0m\u001b[0mid\u001b[0m\u001b[1;33m)\u001b[0m\u001b[1;33m\u001b[0m\u001b[1;33m\u001b[0m\u001b[0m\n\u001b[0;32m     32\u001b[0m \u001b[1;33m\u001b[0m\u001b[0m\n\u001b[1;32m---> 33\u001b[1;33m                     \u001b[0mnewPopulations\u001b[0m\u001b[1;33m[\u001b[0m\u001b[0mi\u001b[0m\u001b[1;33m]\u001b[0m\u001b[1;33m.\u001b[0m\u001b[0mremoveIndividual\u001b[0m\u001b[1;33m(\u001b[0m\u001b[0mmigrant\u001b[0m\u001b[1;33m)\u001b[0m\u001b[1;33m\u001b[0m\u001b[1;33m\u001b[0m\u001b[0m\n\u001b[0m\u001b[0;32m     34\u001b[0m \u001b[1;33m\u001b[0m\u001b[0m\n\u001b[0;32m     35\u001b[0m \u001b[1;33m\u001b[0m\u001b[0m\n",
      "\u001b[1;32m<ipython-input-8-de09494f7e9b>\u001b[0m in \u001b[0;36mremoveIndividual\u001b[1;34m(self, individual)\u001b[0m\n\u001b[0;32m     13\u001b[0m \u001b[1;33m\u001b[0m\u001b[0m\n\u001b[0;32m     14\u001b[0m     \u001b[1;32mdef\u001b[0m \u001b[0mremoveIndividual\u001b[0m\u001b[1;33m(\u001b[0m\u001b[0mself\u001b[0m\u001b[1;33m,\u001b[0m \u001b[0mindividual\u001b[0m\u001b[1;33m)\u001b[0m\u001b[1;33m:\u001b[0m\u001b[1;33m\u001b[0m\u001b[1;33m\u001b[0m\u001b[0m\n\u001b[1;32m---> 15\u001b[1;33m         \u001b[0mself\u001b[0m\u001b[1;33m.\u001b[0m\u001b[0mindividuals\u001b[0m\u001b[1;33m.\u001b[0m\u001b[0mremove\u001b[0m\u001b[1;33m(\u001b[0m\u001b[0mindividual\u001b[0m\u001b[1;33m)\u001b[0m\u001b[1;33m\u001b[0m\u001b[1;33m\u001b[0m\u001b[0m\n\u001b[0m\u001b[0;32m     16\u001b[0m \u001b[1;33m\u001b[0m\u001b[0m\n\u001b[0;32m     17\u001b[0m     \u001b[1;32mdef\u001b[0m \u001b[0mcalculateFreq\u001b[0m\u001b[1;33m(\u001b[0m\u001b[0mself\u001b[0m\u001b[1;33m,\u001b[0m \u001b[0mphenotype\u001b[0m\u001b[1;33m)\u001b[0m\u001b[1;33m:\u001b[0m\u001b[1;33m\u001b[0m\u001b[1;33m\u001b[0m\u001b[0m\n",
      "\u001b[1;31mValueError\u001b[0m: list.remove(x): x not in list"
     ]
    }
   ],
   "source": [
    "phenotypes = ['green', 'blue', 'purple']\n",
    "dispersalMatrix = [\n",
    "    [0.6, 0.1, 0.3],\n",
    "    [0.2, 0.7, 0.1],\n",
    "    [0.1, 0.1, 0.8]]\n",
    "steps = 4\n",
    "testLandscape = Landscape(4, phenotypes, dispersalMatrix, steps)\n",
    "testLandscape.startSimulation()\n",
    "print('\\nFinal landscape status:')\n",
    "# for pop in testLandscape.populations:\n",
    "#     print('Population: %s' % pop.id)\n",
    "#     for ind in pop.individuals:\n",
    "#         print('%s => %s' % (ind.id, ind.phenotype))"
   ]
  },
  {
   "cell_type": "code",
   "execution_count": null,
   "metadata": {},
   "outputs": [],
   "source": []
  }
 ],
 "metadata": {
  "language_info": {
   "name": "python",
   "codemirror_mode": {
    "name": "ipython",
    "version": 3
   },
   "version": "3.8.2-final"
  },
  "orig_nbformat": 2,
  "file_extension": ".py",
  "mimetype": "text/x-python",
  "name": "python",
  "npconvert_exporter": "python",
  "pygments_lexer": "ipython3",
  "version": 3,
  "kernelspec": {
   "name": "python38232bitb7c4e5f263d4410e85abb77999076597",
   "display_name": "Python 3.8.2 32-bit"
  }
 },
 "nbformat": 4,
 "nbformat_minor": 2
}